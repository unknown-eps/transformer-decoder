{
 "cells": [
  {
   "cell_type": "code",
   "execution_count": 1,
   "metadata": {},
   "outputs": [
    {
     "name": "stdout",
     "output_type": "stream",
     "text": [
      "cuda:0\n"
     ]
    }
   ],
   "source": [
    "import pandas as pd\n",
    "import matplotlib.pyplot as plt\n",
    "import torch,torch.nn as nn,torch.nn.functional as F\n",
    "device=torch.device('cuda:0' if torch.cuda.is_available() else 'cpu:0')\n",
    "print(device)"
   ]
  },
  {
   "cell_type": "code",
   "execution_count": 2,
   "metadata": {},
   "outputs": [],
   "source": [
    "with open('input.txt',mode='r') as f:\n",
    "    text=f.read()"
   ]
  },
  {
   "cell_type": "code",
   "execution_count": 3,
   "metadata": {},
   "outputs": [
    {
     "data": {
      "text/plain": [
       "25"
      ]
     },
     "execution_count": 3,
     "metadata": {},
     "output_type": "execute_result"
    }
   ],
   "source": [
    "len(f\"No of chatachters {len(text)}\")"
   ]
  },
  {
   "cell_type": "code",
   "execution_count": 4,
   "metadata": {},
   "outputs": [
    {
     "name": "stdout",
     "output_type": "stream",
     "text": [
      "\n",
      "   ! $ & ' , - . 3 : ; ? A B C D E F G H I J K L M N O P Q R S T U V W X Y Z a b c d e f g h i j k l m n o p q r s t u v w x y z\n",
      "65\n"
     ]
    }
   ],
   "source": [
    "chars=sorted(list(set([x for x in text])))\n",
    "vocab_size=len(chars)\n",
    "print(' '.join(chars))\n",
    "print(vocab_size)"
   ]
  },
  {
   "cell_type": "code",
   "execution_count": 5,
   "metadata": {},
   "outputs": [],
   "source": [
    "## Creating encoder and decoder functions simple value to int maps\n",
    "## stoi maps char to int\n",
    "## itos maps int to char\n",
    "stoi={ch:i for i,ch in enumerate(chars)}\n",
    "itoi={y:x for x,y in stoi.items()}\n",
    "encode=lambda s:[stoi[x] for x in s] #string to tokens\n",
    "decode=lambda l:''.join([itoi[x] for x in l])#tokens to string"
   ]
  },
  {
   "cell_type": "code",
   "execution_count": 6,
   "metadata": {},
   "outputs": [
    {
     "name": "stdout",
     "output_type": "stream",
     "text": [
      "torch.Size([1115393]) torch.int64\n",
      "tensor([18, 47, 56, 57, 58,  1, 15, 47, 58, 47, 64, 43, 52, 10,  0, 14, 43, 44,\n",
      "        53, 56, 43,  1, 61, 43,  1, 54, 56, 53, 41, 43, 43, 42,  1, 39, 52, 63,\n",
      "         1, 44, 59, 56, 58, 46, 43, 56,  6,  1, 46, 43, 39, 56,  1, 51, 43,  1,\n",
      "        57, 54, 43, 39, 49,  8,  0,  0, 13, 50, 50, 10,  0, 31, 54, 43, 39, 49,\n",
      "         6,  1, 57, 54, 43, 39, 49,  8,  0,  0, 18, 47, 56, 57, 58,  1, 15, 47,\n",
      "        58, 47, 64, 43, 52, 10,  0, 37, 53, 59])\n"
     ]
    }
   ],
   "source": [
    "data=torch.tensor(encode(text),dtype=torch.long)\n",
    "print(data.shape,data.dtype)\n",
    "print(data[:100])"
   ]
  },
  {
   "cell_type": "code",
   "execution_count": 7,
   "metadata": {},
   "outputs": [],
   "source": [
    "n=int(0.9*data.shape[0])\n",
    "train_data=data[:n]\n",
    "val_data=data[n:]"
   ]
  },
  {
   "cell_type": "code",
   "execution_count": 8,
   "metadata": {},
   "outputs": [],
   "source": [
    "torch.manual_seed(1337)\n",
    "batch_size=4\n",
    "block_size=8\n",
    "def get_batch(split:str):\n",
    "    data=train_data if split=='train' else val_data\n",
    "    ix=torch.randint(low=0,high=len(data)-block_size-1,size=(batch_size,))\n",
    "    x=torch.stack([data[i:i+block_size] for i in ix] )\n",
    "    y=torch.stack([data[i+1:i+1+block_size] for i in ix] )\n",
    "    return x,y"
   ]
  },
  {
   "cell_type": "code",
   "execution_count": 9,
   "metadata": {},
   "outputs": [
    {
     "name": "stdout",
     "output_type": "stream",
     "text": [
      "data:: tensor([[56, 41, 46,  1, 53,  5,  1, 58],\n",
      "        [14, 33, 15, 23, 21, 26, 19, 20],\n",
      "        [58, 46, 43, 56, 10,  0, 14, 59],\n",
      "        [47, 60, 43,  1, 51, 43,  1, 58]])\n",
      "test:: tensor([[41, 46,  1, 53,  5,  1, 58, 46],\n",
      "        [33, 15, 23, 21, 26, 19, 20, 13],\n",
      "        [46, 43, 56, 10,  0, 14, 59, 58],\n",
      "        [60, 43,  1, 51, 43,  1, 58, 46]])\n"
     ]
    }
   ],
   "source": [
    "temp=get_batch(\"train\")\n",
    "print(f\"data:: {temp[0]}\")\n",
    "print(f\"test:: {temp[1]}\") \n",
    "# del(temp)\n",
    "# This contains 32 data points for transformer to train on with each row containing 8 data points"
   ]
  },
  {
   "cell_type": "markdown",
   "metadata": {},
   "source": [
    "# Bigram language model as a baseline"
   ]
  },
  {
   "cell_type": "code",
   "execution_count": 10,
   "metadata": {},
   "outputs": [],
   "source": [
    "class BigramModel(nn.Module):\n",
    "    def __init__(self,vocab_size):\n",
    "        super().__init__()\n",
    "        self.embed_table=nn.Embedding(vocab_size,vocab_size) \n",
    "        # We want this embed table to give the logits corresponding to prob of next charachter This is equivalent to predicting the next word using the last seen word only\n",
    "    def forward(self,input,target=None):\n",
    "\n",
    "        logits=self.embed_table(input)# gives a res of batch_size,block_size,vocab_size(as this is the dimension of embed table)\n",
    "        if target is None:\n",
    "            loss=None\n",
    "        else:\n",
    "            logits=logits.view(batch_size*block_size,vocab_size)#Change shape for compatibility with cross_entropy\n",
    "            target=target.view(batch_size*block_size)#Change shape for compatibility with cross_entropy\n",
    "            loss=F.cross_entropy(logits,target)\n",
    "        return logits,loss\n",
    "    def generate(self,idx,max_new_tokens):\n",
    "        for _ in range(max_new_tokens):\n",
    "            logits,_=self(idx)\n",
    "            logits=logits[:,-1,:] # B*C for each batch gives next prediction based on last word\n",
    "            probs=F.softmax(logits,dim=1) #(B,C)\n",
    "            idx_next=torch.multinomial(probs,num_samples=1)#(B,1) sample according to those probabilities\n",
    "            idx=torch.cat((idx,idx_next),dim=1)# Attach those new words and last words and try again\n",
    "        return idx\n",
    "                        \n",
    "            "
   ]
  },
  {
   "cell_type": "code",
   "execution_count": 11,
   "metadata": {},
   "outputs": [
    {
     "name": "stdout",
     "output_type": "stream",
     "text": [
      "\n",
      "l-QYjt'CL?jLDuQcLzy'RIo;'KdhpV\n",
      "vLixa,nswYZwLEPS'ptIZqOZJ$CA$zy-QTkeMk x.gQSFCLg!iW3fO!3DGXAqTsq3pdgq\n"
     ]
    }
   ],
   "source": [
    "m=BigramModel(vocab_size)\n",
    "print(decode(m.generate(torch.zeros((1,1),dtype=torch.long),100)[0].tolist()))## Curremtly random as not trained"
   ]
  },
  {
   "cell_type": "markdown",
   "metadata": {},
   "source": [
    "## Training the bigram model"
   ]
  },
  {
   "cell_type": "code",
   "execution_count": 12,
   "metadata": {},
   "outputs": [],
   "source": [
    "optimizer=torch.optim.AdamW(m.parameters(),lr=1e-3)"
   ]
  },
  {
   "cell_type": "code",
   "execution_count": 13,
   "metadata": {},
   "outputs": [],
   "source": [
    "batch_size=32## For training the bigram\n",
    "epochs=10000\n",
    "losses=[]\n",
    "for _ in range(epochs):\n",
    "    xb,yb=get_batch(\"train\")\n",
    "    logits,loss=m.forward(xb,yb)\n",
    "    optimizer.zero_grad(set_to_none=True)\n",
    "    loss.backward()\n",
    "    optimizer.step()    \n",
    "    losses.append(loss.item())\n",
    "    "
   ]
  },
  {
   "cell_type": "code",
   "execution_count": 14,
   "metadata": {},
   "outputs": [
    {
     "data": {
      "text/plain": [
       "Text(0.5, 1.0, 'Loss vs Num Epochs Bigram Model')"
      ]
     },
     "execution_count": 14,
     "metadata": {},
     "output_type": "execute_result"
    },
    {
     "data": {
      "image/png": "[encoded data removed]",
      "text/plain": [
       "<Figure size 640x480 with 1 Axes>"
      ]
     },
     "metadata": {},
     "output_type": "display_data"
    }
   ],
   "source": [
    "plt.plot([x for x in range(1,len(losses)+1)],losses)\n",
    "plt.xlabel(\"Epochs\")\n",
    "plt.ylabel(\"Loss\")\n",
    "plt.legend(\"Loss\")\n",
    "plt.title(\"Loss vs Num Epochs Bigram Model\")"
   ]
  }
 ],
 "metadata": {
  "kernelspec": {
   "display_name": "gpu_torch",
   "language": "python",
   "name": "python3"
  },
  "language_info": {
   "codemirror_mode": {
    "name": "ipython",
    "version": 3
   },
   "file_extension": ".py",
   "mimetype": "text/x-python",
   "name": "python",
   "nbconvert_exporter": "python",
   "pygments_lexer": "ipython3",
   "version": "3.11.9"
  }
 },
 "nbformat": 4,
 "nbformat_minor": 2
}
