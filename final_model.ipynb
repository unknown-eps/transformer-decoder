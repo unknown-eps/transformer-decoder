{
 "cells": [
  {
   "cell_type": "code",
   "execution_count": 1,
   "metadata": {},
   "outputs": [],
   "source": [
    "import torch\n",
    "import torch.nn as nn\n",
    "import torch.nn.functional as F\n",
    "import numpy as np\n",
    "import pandas as pd\n",
    "import matplotlib.pyplot as plt\n"
   ]
  },
  {
   "cell_type": "code",
   "execution_count": 2,
   "metadata": {},
   "outputs": [
    {
     "name": "stdout",
     "output_type": "stream",
     "text": [
      "cuda:0\n"
     ]
    }
   ],
   "source": [
    "## Model params\n",
    "device=torch.device('cuda:0' if torch.cuda.is_available() else 'cpu:0')\n",
    "print(device)\n",
    "n_embd=384 #size of embedding dimension\n",
    "batch_size= 32\n",
    "block_size=256\n",
    "lr=3e-4\n",
    "n_head=6\n",
    "eval_iters=10000"
   ]
  },
  {
   "cell_type": "code",
   "execution_count": 3,
   "metadata": {},
   "outputs": [],
   "source": [
    "with open('input.txt',mode='r') as f:\n",
    "    text=f.read()"
   ]
  },
  {
   "cell_type": "code",
   "execution_count": 4,
   "metadata": {},
   "outputs": [
    {
     "data": {
      "text/plain": [
       "1115393"
      ]
     },
     "execution_count": 4,
     "metadata": {},
     "output_type": "execute_result"
    }
   ],
   "source": [
    "len(text)"
   ]
  },
  {
   "cell_type": "code",
   "execution_count": 5,
   "metadata": {},
   "outputs": [
    {
     "name": "stdout",
     "output_type": "stream",
     "text": [
      "\n",
      "   ! $ & ' , - . 3 : ; ? A B C D E F G H I J K L M N O P Q R S T U V W X Y Z a b c d e f g h i j k l m n o p q r s t u v w x y z\n",
      "65\n"
     ]
    }
   ],
   "source": [
    "chars=sorted(list(set([x for x in text])))\n",
    "vocab_size=len(chars)\n",
    "print(' '.join(chars))\n",
    "print(vocab_size)"
   ]
  },
  {
   "cell_type": "code",
   "execution_count": 6,
   "metadata": {},
   "outputs": [],
   "source": [
    "## Creating encoder and decoder functions simple value to int maps\n",
    "## stoi maps char to int\n",
    "## itos maps int to char\n",
    "stoi={ch:i for i,ch in enumerate(chars)}\n",
    "itoi={y:x for x,y in stoi.items()}\n",
    "def encode(s):\n",
    "    return [stoi[x] for x in s] #string to tokens\n",
    "def decode(tok):\n",
    "    return ''.join([itoi[x] for x in tok])#tokens to string"
   ]
  },
  {
   "cell_type": "code",
   "execution_count": 7,
   "metadata": {},
   "outputs": [
    {
     "name": "stdout",
     "output_type": "stream",
     "text": [
      "torch.Size([1115393]) torch.int64\n",
      "tensor([18, 47, 56, 57, 58,  1, 15, 47, 58, 47, 64, 43, 52, 10,  0, 14, 43, 44,\n",
      "        53, 56, 43,  1, 61, 43,  1, 54, 56, 53, 41, 43, 43, 42,  1, 39, 52, 63,\n",
      "         1, 44, 59, 56, 58, 46, 43, 56,  6,  1, 46, 43, 39, 56,  1, 51, 43,  1,\n",
      "        57, 54, 43, 39, 49,  8,  0,  0, 13, 50, 50, 10,  0, 31, 54, 43, 39, 49,\n",
      "         6,  1, 57, 54, 43, 39, 49,  8,  0,  0, 18, 47, 56, 57, 58,  1, 15, 47,\n",
      "        58, 47, 64, 43, 52, 10,  0, 37, 53, 59])\n"
     ]
    }
   ],
   "source": [
    "data=torch.tensor(encode(text),dtype=torch.long)\n",
    "print(data.shape,data.dtype)\n",
    "print(data[:100])"
   ]
  },
  {
   "cell_type": "code",
   "execution_count": 8,
   "metadata": {},
   "outputs": [],
   "source": [
    "n=int(0.9*data.shape[0])\n",
    "train_data=data[:n]\n",
    "val_data=data[n:]"
   ]
  },
  {
   "cell_type": "code",
   "execution_count": 9,
   "metadata": {},
   "outputs": [],
   "source": [
    "torch.manual_seed(1337)\n",
    "def get_batch(split:str):\n",
    "    data=train_data if split=='train' else val_data\n",
    "    ix=torch.randint(low=0,high=len(data)-block_size-1,size=(batch_size,))\n",
    "    x=torch.stack([data[i:i+block_size] for i in ix] )\n",
    "    y=torch.stack([data[i+1:i+1+block_size] for i in ix] )\n",
    "    return x,y"
   ]
  },
  {
   "cell_type": "code",
   "execution_count": 10,
   "metadata": {},
   "outputs": [],
   "source": [
    "class FeedForward(nn.Module):\n",
    "    def __init__(self,n_embd):\n",
    "        super().__init__()\n",
    "        self.net=nn.Sequential(nn.Linear(n_embd,4*n_embd)\n",
    "                               ,nn.ReLU()\n",
    "                               ,nn.Linear(4*n_embd,n_embd)\n",
    "                               )\n",
    "    def forward(self,x):\n",
    "        return self.net(x)"
   ]
  },
  {
   "cell_type": "code",
   "execution_count": 11,
   "metadata": {},
   "outputs": [],
   "source": [
    "class Head(nn.Module):\n",
    "    def __init__(self,head_size : int):\n",
    "        super().__init__()\n",
    "        self.head_size=head_size\n",
    "        self.key=nn.Linear(n_embd,head_size,bias=False)\n",
    "        self.query=nn.Linear(n_embd,head_size,bias=False)\n",
    "        self.value=nn.Linear(n_embd,head_size,bias=False)\n",
    "        self.register_buffer('tril',torch.tril(torch.ones(block_size,block_size)))\n",
    "    def forward(self,x):\n",
    "        k=self.key(x) ## B*T*head_size\n",
    "        q=self.query(x) ## B*T*head_size\n",
    "        v=self.value(x) ## B*T*head_size\n",
    "        wei=(q@k.transpose(-2,-1))*(self.head_size**-0.5) ## B*T*T\n",
    "        wei=wei.masked_fill(self.tril==0,float(\"-inf\"))\n",
    "        wei=F.softmax(wei,dim=-1)\n",
    "        out=wei@v ## B*T*head_size\n",
    "        return out"
   ]
  },
  {
   "cell_type": "code",
   "execution_count": 12,
   "metadata": {},
   "outputs": [],
   "source": [
    "class MultiHeadAttention(nn.Module):\n",
    "    def __init__(self,num_heads,head_size):\n",
    "        super().__init__()\n",
    "        self.heads=nn.ModuleList([Head(head_size) for _ in range(num_heads)])\n",
    "        self.proj=nn.Linear(n_embd,n_embd)\n",
    "    def forward(self,x):\n",
    "        out=torch.cat([s_head(x) for s_head in self.heads],dim=-1)\n",
    "        out=self.proj(out)\n",
    "        return out"
   ]
  },
  {
   "cell_type": "code",
   "execution_count": 13,
   "metadata": {},
   "outputs": [],
   "source": [
    "## Combining computation with communication and residual connections\n",
    "class Block(nn.Module):\n",
    "    def __init__(self,n_embd,n_head):\n",
    "        super().__init__()\n",
    "        head_size=n_embd//n_head\n",
    "        self.sa=MultiHeadAttention(n_head,head_size)\n",
    "        self.ffwd=FeedForward(n_embd)\n",
    "        self.ln1=nn.LayerNorm(n_embd)\n",
    "        self.ln2=nn.LayerNorm(n_embd)\n",
    "    def forward(self,x):\n",
    "        x=x+self.sa(self.ln1(x))\n",
    "        x=x+self.ffwd(self.ln2(x))\n",
    "        return x"
   ]
  },
  {
   "cell_type": "code",
   "execution_count": 14,
   "metadata": {},
   "outputs": [],
   "source": [
    "class BigramModel(nn.Module):\n",
    "    def __init__(self):\n",
    "        super().__init__()\n",
    "        self.token_embedding_table=nn.Embedding(vocab_size,n_embd) # We map to some embedding dimensions\n",
    "        self.position_embedding_table=nn.Embedding(block_size,n_embd)\n",
    "        self.sa_head=MultiHeadAttention(n_head,n_embd//n_head) ## Works only because by concating 4 layers of n_embed we get back to n_embd size 4=0\n",
    "        self.ffwd=FeedForward(n_embd)## Applying a non Linearity\n",
    "        self.lm_head=nn.Linear(n_embd,vocab_size) #Going to logits from embedding \n",
    "        # We want this embed table to give the logits corresponding to prob of next charachter This is equivalent to predicting the next word using the last seen word only\n",
    "    def forward(self,input,target=None):\n",
    "\n",
    "        tok_emb=self.token_embedding_table(input)# gives a res of batch_size,block_size,n_embd(as this is the dimension of embed table)\n",
    "        pos_emb=self.position_embedding_table(torch.arange(block_size,device=device)) # T*C\n",
    "        x=tok_emb+pos_emb # B*T*C Brodcast along batch\n",
    "        x=self.sa_head(x)\n",
    "        x=self.ffwd(x)\n",
    "        logits=self.lm_head(x) # batch_size,block_size,vocab_size gives output probabilities  \n",
    "        if target is None:\n",
    "            loss=None\n",
    "        else:\n",
    "            logits=logits.view(batch_size*block_size,vocab_size)#Change shape for compatibility with cross_entropy\n",
    "            target=target.view(batch_size*block_size)#Change shape for compatibility with cross_entropy\n",
    "            loss=F.cross_entropy(logits,target)\n",
    "        return logits,loss\n",
    "    def generate(self,idx,max_new_tokens):\n",
    "        idx=idx.to_device()\n",
    "        with torch.no_grad:\n",
    "            for _ in range(max_new_tokens):\n",
    "                idx_cond=idx[:,-block_size:]## Atmost block size can be used due to positional encoding bound\n",
    "                logits,_=self(idx_cond)\n",
    "                logits=logits[:,-1,:] # B*C for each batch gives next prediction based on last word\n",
    "                probs=F.softmax(logits,dim=1) #(B,C)\n",
    "                idx_next=torch.multinomial(probs,num_samples=1)#(B,1) sample according to those probabilities\n",
    "                idx=torch.cat((idx,idx_next),dim=1)# Attach those new words and last words and try again\n",
    "            return idx\n",
    "                            \n",
    "            "
   ]
  },
  {
   "cell_type": "markdown",
   "metadata": {},
   "source": [
    "# Model Train"
   ]
  },
  {
   "cell_type": "code",
   "execution_count": 15,
   "metadata": {},
   "outputs": [
    {
     "data": {
      "text/plain": [
       "BigramModel(\n",
       "  (token_embedding_table): Embedding(65, 384)\n",
       "  (position_embedding_table): Embedding(256, 384)\n",
       "  (sa_head): MultiHeadAttention(\n",
       "    (heads): ModuleList(\n",
       "      (0-5): 6 x Head(\n",
       "        (key): Linear(in_features=384, out_features=64, bias=False)\n",
       "        (query): Linear(in_features=384, out_features=64, bias=False)\n",
       "        (value): Linear(in_features=384, out_features=64, bias=False)\n",
       "      )\n",
       "    )\n",
       "    (proj): Linear(in_features=384, out_features=384, bias=True)\n",
       "  )\n",
       "  (ffwd): FeedForward(\n",
       "    (net): Sequential(\n",
       "      (0): Linear(in_features=384, out_features=1536, bias=True)\n",
       "      (1): ReLU()\n",
       "      (2): Linear(in_features=1536, out_features=384, bias=True)\n",
       "    )\n",
       "  )\n",
       "  (lm_head): Linear(in_features=384, out_features=65, bias=True)\n",
       ")"
      ]
     },
     "execution_count": 15,
     "metadata": {},
     "output_type": "execute_result"
    }
   ],
   "source": [
    "m=BigramModel()\n",
    "m.to(device)"
   ]
  },
  {
   "cell_type": "code",
   "execution_count": 16,
   "metadata": {},
   "outputs": [
    {
     "name": "stdout",
     "output_type": "stream",
     "text": [
      "BigramModel(\n",
      "  (token_embedding_table): Embedding(65, 384)\n",
      "  (position_embedding_table): Embedding(256, 384)\n",
      "  (sa_head): MultiHeadAttention(\n",
      "    (heads): ModuleList(\n",
      "      (0-5): 6 x Head(\n",
      "        (key): Linear(in_features=384, out_features=64, bias=False)\n",
      "        (query): Linear(in_features=384, out_features=64, bias=False)\n",
      "        (value): Linear(in_features=384, out_features=64, bias=False)\n",
      "      )\n",
      "    )\n",
      "    (proj): Linear(in_features=384, out_features=384, bias=True)\n",
      "  )\n",
      "  (ffwd): FeedForward(\n",
      "    (net): Sequential(\n",
      "      (0): Linear(in_features=384, out_features=1536, bias=True)\n",
      "      (1): ReLU()\n",
      "      (2): Linear(in_features=1536, out_features=384, bias=True)\n",
      "    )\n",
      "  )\n",
      "  (lm_head): Linear(in_features=384, out_features=65, bias=True)\n",
      ")\n"
     ]
    }
   ],
   "source": [
    "print(m)"
   ]
  },
  {
   "cell_type": "code",
   "execution_count": 17,
   "metadata": {},
   "outputs": [],
   "source": [
    "optimizer=torch.optim.AdamW(m.parameters(),lr=lr)"
   ]
  },
  {
   "cell_type": "code",
   "execution_count": 18,
   "metadata": {},
   "outputs": [],
   "source": [
    "losses=[]\n",
    "for _ in range(eval_iters):\n",
    "    xb,yb=get_batch(\"train\")\n",
    "    xb=xb.to(device)\n",
    "    yb=yb.to(device)\n",
    "    logits,loss=m(xb,yb)\n",
    "    optimizer.zero_grad(set_to_none=True)\n",
    "    loss.backward()\n",
    "    optimizer.step()    \n",
    "    losses.append(loss.item())\n"
   ]
  },
  {
   "cell_type": "code",
   "execution_count": 19,
   "metadata": {},
   "outputs": [
    {
     "data": {
      "text/plain": [
       "Text(0, 0.5, 'Loss')"
      ]
     },
     "execution_count": 19,
     "metadata": {},
     "output_type": "execute_result"
    },
    {
     "data": {
      "image/png": "[encoded data removed]",
      "text/plain": [
       "<Figure size 640x480 with 1 Axes>"
      ]
     },
     "metadata": {},
     "output_type": "display_data"
    }
   ],
   "source": [
    "plt.plot([x for x in range(1,eval_iters+1)],losses)\n",
    "plt.title(\"Loss vs eval\")\n",
    "plt.xlabel(\"epochs\")\n",
    "plt.ylabel(\"Loss\")"
   ]
  },
  {
   "cell_type": "code",
   "execution_count": 28,
   "metadata": {},
   "outputs": [
    {
     "name": "stdout",
     "output_type": "stream",
     "text": [
      "FTITTTURENEL:\n",
      "TakLy, Enbui:'Rt!\n",
      "\n",
      "HORTMARIANENA:\n",
      "Wailing, at life, Even, mildly, that villain.\n",
      "\n",
      "WESTMER:\n",
      "\n",
      "CLIFFORD:\n",
      "Ilind tear these would by preventies litty.\n",
      "\n",
      "KING HENRY VI:\n",
      "\n",
      "Against more worthy Sailloyars on him evil's eye,\n",
      "For Will weekness strong-gentleman the danger\n",
      "They son; if he must not in expedition Paris by oathanks,\n",
      "Which, you say answer his greatness to traitor,\n",
      "And yet me from me.\n",
      "Join' God's sake.\n",
      "And you that hanks, good so me? consured me madam?\n",
      "\n",
      "BUCKINGHAM:\n",
      "You welcome, wilt confessests to castle. \n",
      "I'll poisone worst shall desire movetous distance,\n",
      "Is it meetime.\n",
      "\n",
      "VOLUMNES:\n",
      "What is that nyible Claudio, now their duchedness of the way?\n",
      "\n",
      "AUTOLYCUS:\n",
      "This cowards of Bohemely Fortunes welcome.\n",
      "\n",
      "ANGELO:\n",
      "Welcome, if I shall poison's medice?\n",
      "Forse: I do it is onteous for every precious souls\n",
      "Be that thy bustle, were be thou should the boar\n",
      "Be this in our terruptings; the give we run,\n",
      "Were you all, I hum judge; we are conver,\n",
      "Ther hath doth not back of his well.,\n",
      "may strikes I\n"
     ]
    }
   ],
   "source": [
    "print(decode(m.generate(torch.zeros((1,256),dtype=torch.long,device=device),1000)[0][256:].tolist()))"
   ]
  },
  {
   "cell_type": "code",
   "execution_count": null,
   "metadata": {},
   "outputs": [],
   "source": []
  }
 ],
 "metadata": {
  "kernelspec": {
   "display_name": "gpu_torch",
   "language": "python",
   "name": "python3"
  },
  "language_info": {
   "codemirror_mode": {
    "name": "ipython",
    "version": 3
   },
   "file_extension": ".py",
   "mimetype": "text/x-python",
   "name": "python",
   "nbconvert_exporter": "python",
   "pygments_lexer": "ipython3",
   "version": "3.11.9"
  }
 },
 "nbformat": 4,
 "nbformat_minor": 2
}
