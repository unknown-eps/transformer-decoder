{
 "cells": [
  {
   "cell_type": "code",
   "execution_count": 1,
   "metadata": {},
   "outputs": [],
   "source": [
    "import torch\n",
    "torch.use_deterministic_algorithms(True)"
   ]
  },
  {
   "cell_type": "code",
   "execution_count": 2,
   "metadata": {},
   "outputs": [
    {
     "data": {
      "text/plain": [
       "torch.Size([4, 8, 2])"
      ]
     },
     "execution_count": 2,
     "metadata": {},
     "output_type": "execute_result"
    }
   ],
   "source": [
    "B=4\n",
    "T=8\n",
    "C=2\n",
    "torch.manual_seed(1337)\n",
    "x=torch.randn((B,T,C),dtype=torch.float64) # B,T,C\n",
    "x.shape"
   ]
  },
  {
   "cell_type": "code",
   "execution_count": 3,
   "metadata": {},
   "outputs": [],
   "source": [
    "#xbow[b,t,c] = avg x[b,x<=t,c] We are tryung to do this effecciently\n",
    "xbow=torch.zeros(4,8,2,dtype=torch.float64)\n",
    "for b in range(B):\n",
    "    for t in range(T):\n",
    "        tmp=x[b,:t+1] ## t*C\n",
    "        xbow[b,t]=tmp.mean(dim=0)"
   ]
  },
  {
   "cell_type": "code",
   "execution_count": 4,
   "metadata": {},
   "outputs": [],
   "source": [
    "xtemp=torch.zeros(4,8,2,dtype=torch.float64)\n",
    "for t in range(T):\n",
    "    tmp=x[:,:t+1,:]\n",
    "    xtemp[:,t,:]=tmp.mean(dim=1)"
   ]
  },
  {
   "cell_type": "code",
   "execution_count": 5,
   "metadata": {},
   "outputs": [
    {
     "data": {
      "text/plain": [
       "True"
      ]
     },
     "execution_count": 5,
     "metadata": {},
     "output_type": "execute_result"
    }
   ],
   "source": [
    "torch.allclose(xtemp,xbow)"
   ]
  },
  {
   "cell_type": "code",
   "execution_count": null,
   "metadata": {},
   "outputs": [],
   "source": [
    "## Averages via matrix multiplication assuming there is no batch dimension\n",
    "torch.manual_seed(42)\n",
    "a = torch.tril(torch.ones(3,3,dtype=torch.float64))\n",
    "# a = a/a.sum(dim=1,keepdim=True)\n",
    "b = torch.randint(0,10,(3,2),dtype=torch.float64)\n",
    "\n",
    "c= a@b\n",
    "print(f\"a= {a}\")\n",
    "print(f\"b= {b}\")\n",
    "print(f\"b= {c}\")\n"
   ]
  },
  {
   "cell_type": "markdown",
   "metadata": {},
   "source": [
    "# T * T and B * T* C matrix were multiplied the multiplication was broadcasted over the batch dimension"
   ]
  },
  {
   "cell_type": "code",
   "execution_count": 6,
   "metadata": {},
   "outputs": [
    {
     "name": "stdout",
     "output_type": "stream",
     "text": [
      "wei shape torch.Size([8, 8])\n",
      "x shape torch.Size([4, 8, 2])\n"
     ]
    }
   ],
   "source": [
    "## gettting equal to xbow using matrix multiply aggregation\n",
    "wei=torch.tril(torch.ones(T,T,dtype=torch.float64)) #lower triangular all ones matrix\n",
    "wei=wei/wei.sum(1,keepdim=True)\n",
    "print(\"wei shape\",wei.shape)\n",
    "print(\"x shape\",x.shape)\n",
    "xbow2=wei@x # wei is T*T x is B*T*C pytorch will interpret B as batch dimension and brodcast over it\n"
   ]
  },
  {
   "cell_type": "code",
   "execution_count": 7,
   "metadata": {},
   "outputs": [
    {
     "data": {
      "text/plain": [
       "True"
      ]
     },
     "execution_count": 7,
     "metadata": {},
     "output_type": "execute_result"
    }
   ],
   "source": [
    "torch.allclose(xbow,xbow2)"
   ]
  },
  {
   "cell_type": "markdown",
   "metadata": {},
   "source": [
    "# Via softmax this will end up being used"
   ]
  },
  {
   "cell_type": "code",
   "execution_count": 8,
   "metadata": {},
   "outputs": [
    {
     "data": {
      "text/plain": [
       "True"
      ]
     },
     "execution_count": 8,
     "metadata": {},
     "output_type": "execute_result"
    }
   ],
   "source": [
    "tril=torch.tril(torch.ones(T,T,dtype=torch.float64))\n",
    "wei2=torch.zeros(T,T,dtype=torch.float64).masked_fill(tril==0,float('-inf'))\n",
    "wei2=wei2.softmax(dim=1)\n",
    "torch.allclose(wei,wei2)"
   ]
  },
  {
   "cell_type": "code",
   "execution_count": null,
   "metadata": {},
   "outputs": [],
   "source": []
  }
 ],
 "metadata": {
  "kernelspec": {
   "display_name": "gpu_torch",
   "language": "python",
   "name": "python3"
  },
  "language_info": {
   "codemirror_mode": {
    "name": "ipython",
    "version": 3
   },
   "file_extension": ".py",
   "mimetype": "text/x-python",
   "name": "python",
   "nbconvert_exporter": "python",
   "pygments_lexer": "ipython3",
   "version": "3.11.9"
  }
 },
 "nbformat": 4,
 "nbformat_minor": 2
}
