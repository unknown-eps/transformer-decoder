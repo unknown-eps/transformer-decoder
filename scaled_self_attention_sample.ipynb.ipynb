{
 "cells": [
  {
   "cell_type": "markdown",
   "metadata": {},
   "source": [
    "# Sample self Attention implementation"
   ]
  },
  {
   "cell_type": "code",
   "execution_count": 1,
   "metadata": {},
   "outputs": [],
   "source": [
    "import torch\n",
    "import torch.nn as nn\n",
    "import torch.nn.functional as F"
   ]
  },
  {
   "cell_type": "code",
   "execution_count": 2,
   "metadata": {},
   "outputs": [],
   "source": [
    "torch.manual_seed(1337)\n",
    "B,T,C=3,8,32 ## Batch time channels/embed_dim\n",
    "x=torch.randn(B,T,C)\n",
    "head_size=16 ## Head size is a hyperparameter\n",
    "## Information at time T is combined to produce key and query vector\n",
    "key=nn.Linear(C,head_size,bias=False) ## B,T,head_size\n",
    "query=nn.Linear(C,head_size,bias=False)##B,T,head_size\n",
    "value=nn.Linear(C,head_size,bias=False)\n",
    "k=key(x)\n",
    "q=query(x)\n",
    "v=value(x)\n",
    "wei=q@k.transpose(-1,-2) ## k made head_size*T before broadcast ## wei is B,T,T\n",
    "tril=torch.tril(torch.ones(T,T))## Lower triangular matrix of all ones\n",
    "## The masking is not present in decoder blocks but no masking is needed in \n",
    "wei=wei.masked_fill(tril==0,float(\"-inf\"))/(head_size**0.5)# Scaled self attention\n",
    "wei=F.softmax(wei,dim=-1)\n",
    "out=wei@v ## B*T*C"
   ]
  }
 ],
 "metadata": {
  "kernelspec": {
   "display_name": "gpu_torch",
   "language": "python",
   "name": "python3"
  },
  "language_info": {
   "codemirror_mode": {
    "name": "ipython",
    "version": 3
   },
   "file_extension": ".py",
   "mimetype": "text/x-python",
   "name": "python",
   "nbconvert_exporter": "python",
   "pygments_lexer": "ipython3",
   "version": "3.11.9"
  }
 },
 "nbformat": 4,
 "nbformat_minor": 2
}
